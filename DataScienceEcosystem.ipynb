{
 "cells": [
  {
   "cell_type": "markdown",
   "id": "a85f0bef",
   "metadata": {},
   "source": [
    "# Data Science Tools and Ecosystem"
   ]
  },
  {
   "cell_type": "markdown",
   "id": "0a2e0010",
   "metadata": {},
   "source": [
    "In this notebook, Data Science Tools and Ecosystem are summerized."
   ]
  },
  {
   "cell_type": "markdown",
   "id": "7ebe50e0",
   "metadata": {},
   "source": [
    "__Objectives:__\n",
    "- List of language for Data Science\n",
    "- List of commonly used libraries\n",
    "- Examples of evaluating arithmetic expressions"
   ]
  },
  {
   "cell_type": "markdown",
   "id": "d91100a7",
   "metadata": {},
   "source": [
    "Some of the popular language that Data Science use are:\n",
    "1. Python\n",
    "2. SQL\n",
    "3. R"
   ]
  },
  {
   "cell_type": "markdown",
   "id": "94873b29",
   "metadata": {},
   "source": [
    "Some of the commonly used libraries used by Data Scientists include:\n",
    "1. Pandas\n",
    "2. NumPy\n",
    "3. MatplotLib"
   ]
  },
  {
   "cell_type": "markdown",
   "id": "bd848668",
   "metadata": {},
   "source": [
    "| Data Science Tools |\n",
    "| ------ |\n",
    "| Jupyter Notebook |\n",
    "| RStudio |\n",
    "| Visual Studio Code |"
   ]
  },
  {
   "cell_type": "markdown",
   "id": "bc6a1b0e",
   "metadata": {},
   "source": [
    "Below are a few examples of evaluating arithmetic expressions in Python\n"
   ]
  },
  {
   "cell_type": "code",
   "execution_count": 4,
   "id": "c561b6ae",
   "metadata": {},
   "outputs": [
    {
     "data": {
      "text/plain": [
       "17"
      ]
     },
     "execution_count": 4,
     "metadata": {},
     "output_type": "execute_result"
    }
   ],
   "source": [
    "# This a simple arithmetic expression to mutiply then add integers\n",
    "(3*4)+5"
   ]
  },
  {
   "cell_type": "code",
   "execution_count": 10,
   "id": "8b4c0bd1",
   "metadata": {},
   "outputs": [
    {
     "name": "stdout",
     "output_type": "stream",
     "text": [
      "3.3333333333333335 hours\n"
     ]
    }
   ],
   "source": [
    "# This will convert 200 minutes to hours by dividing by 60\n",
    "\n",
    "m = 200\n",
    "h = 60\n",
    "div = m/h\n",
    "print(div,'hours')"
   ]
  },
  {
   "cell_type": "markdown",
   "id": "86ac4f1f",
   "metadata": {},
   "source": [
    "## Author\n",
    "ADITYA AL RASID WICAKSONO"
   ]
  },
  {
   "cell_type": "code",
   "execution_count": null,
   "id": "4c9d9d31",
   "metadata": {},
   "outputs": [],
   "source": []
  }
 ],
 "metadata": {
  "kernelspec": {
   "display_name": "Python 3 (ipykernel)",
   "language": "python",
   "name": "python3"
  },
  "language_info": {
   "codemirror_mode": {
    "name": "ipython",
    "version": 3
   },
   "file_extension": ".py",
   "mimetype": "text/x-python",
   "name": "python",
   "nbconvert_exporter": "python",
   "pygments_lexer": "ipython3",
   "version": "3.11.5"
  }
 },
 "nbformat": 4,
 "nbformat_minor": 5
}
